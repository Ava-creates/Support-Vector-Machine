{
  "cells": [
    {
      "cell_type": "markdown",
      "metadata": {
        "id": "view-in-github",
        "colab_type": "text"
      },
      "source": [
        "<a href=\"https://colab.research.google.com/github/Ava-creates/Support-Vector-Machine/blob/main/svm.ipynb\" target=\"_parent\"><img src=\"https://colab.research.google.com/assets/colab-badge.svg\" alt=\"Open In Colab\"/></a>"
      ]
    },
    {
      "cell_type": "markdown",
      "metadata": {
        "id": "4SKpWnpBpjLl"
      },
      "source": [
        "# Linear SVM with Stochastic Gradient Descent "
      ]
    },
    {
      "cell_type": "code",
      "execution_count": null,
      "metadata": {
        "id": "hQvcSphUpjLp"
      },
      "outputs": [],
      "source": [
        "import numpy as np\n",
        "import matplotlib.pyplot as plt\n",
        "from sklearn.model_selection import train_test_split\n",
        "import pandas as pd\n",
        "from sklearn.preprocessing import MinMaxScaler  # for normalization\n",
        "from sklearn.utils import shuffle\n",
        "from sklearn.metrics import accuracy_score \n",
        "from sklearn.datasets import load_breast_cancer"
      ]
    },
    {
      "cell_type": "markdown",
      "source": [
        "loading the data and normalising it <br>\n",
        "\n",
        "relabelling the Y targets to +1/-1."
      ],
      "metadata": {
        "id": "2RbpJOJO1lrq"
      }
    },
    {
      "cell_type": "code",
      "execution_count": null,
      "metadata": {
        "colab": {
          "base_uri": "https://localhost:8080/"
        },
        "id": "vnj-qGccpjLq",
        "outputId": "0498336b-24b1-450a-f79b-1a4c0653b817"
      },
      "outputs": [
        {
          "output_type": "stream",
          "name": "stdout",
          "text": [
            "[[-1]\n",
            " [-1]\n",
            " [-1]\n",
            " [-1]\n",
            " [-1]\n",
            " [-1]\n",
            " [-1]\n",
            " [-1]\n",
            " [-1]]\n",
            "[[1.799e+01 1.038e+01 1.228e+02 1.001e+03 1.184e-01 2.776e-01 3.001e-01\n",
            "  1.471e-01 2.419e-01 7.871e-02 1.095e+00 9.053e-01 8.589e+00 1.534e+02\n",
            "  6.399e-03 4.904e-02 5.373e-02 1.587e-02 3.003e-02 6.193e-03 2.538e+01\n",
            "  1.733e+01 1.846e+02 2.019e+03 1.622e-01 6.656e-01 7.119e-01 2.654e-01\n",
            "  4.601e-01 1.189e-01]\n",
            " [2.057e+01 1.777e+01 1.329e+02 1.326e+03 8.474e-02 7.864e-02 8.690e-02\n",
            "  7.017e-02 1.812e-01 5.667e-02 5.435e-01 7.339e-01 3.398e+00 7.408e+01\n",
            "  5.225e-03 1.308e-02 1.860e-02 1.340e-02 1.389e-02 3.532e-03 2.499e+01\n",
            "  2.341e+01 1.588e+02 1.956e+03 1.238e-01 1.866e-01 2.416e-01 1.860e-01\n",
            "  2.750e-01 8.902e-02]\n",
            " [1.969e+01 2.125e+01 1.300e+02 1.203e+03 1.096e-01 1.599e-01 1.974e-01\n",
            "  1.279e-01 2.069e-01 5.999e-02 7.456e-01 7.869e-01 4.585e+00 9.403e+01\n",
            "  6.150e-03 4.006e-02 3.832e-02 2.058e-02 2.250e-02 4.571e-03 2.357e+01\n",
            "  2.553e+01 1.525e+02 1.709e+03 1.444e-01 4.245e-01 4.504e-01 2.430e-01\n",
            "  3.613e-01 8.758e-02]]\n"
          ]
        }
      ],
      "source": [
        "#Load breast cancer dataset\n",
        "data = load_breast_cancer()\n",
        "\n",
        "X=data[\"data\"]\n",
        "y=data[\"target\"]\n",
        "y=y.reshape((X.shape[0],1))\n",
        "# make labels +1/-1 instead of 0 and 1's\n",
        "\n",
        "y= np.where(y ==0, -1, 1)\n",
        "\n",
        "print(y[1:10])\n",
        "from sklearn.preprocessing import MinMaxScaler\n",
        "# Do a Min/Max normalization on input data\n",
        "scaler = MinMaxScaler()\n",
        "scaler.fit(X)\n",
        "X_scaled = scaler.transform(X)\n",
        "\n",
        "print(X[:3,])\n"
      ]
    },
    {
      "cell_type": "code",
      "execution_count": null,
      "metadata": {
        "colab": {
          "base_uri": "https://localhost:8080/"
        },
        "id": "sOEtZLv5pjLr",
        "outputId": "d03485cc-1ffd-428b-b12c-a3087b16ab4d"
      },
      "outputs": [
        {
          "output_type": "stream",
          "name": "stdout",
          "text": [
            "(569, 30) (569, 1)\n",
            "(455, 30) (114, 30)\n"
          ]
        }
      ],
      "source": [
        "#append ones in the input data for bias terms\n",
        "\n",
        "b=np.ones((X.shape[0],1))\n",
        "\n",
        "X_test_scaled=np.hstack((b,X))\n",
        "\n",
        "print(X.shape,y.shape)\n",
        "\n",
        "#split training and test data\n",
        "from sklearn.model_selection import train_test_split\n",
        "X_train, X_test, y_train, y_test = train_test_split(X, y, test_size=0.2, random_state=42)\n",
        "print(X_train.shape, X_test.shape)"
      ]
    },
    {
      "cell_type": "markdown",
      "metadata": {
        "id": "pyVVPOy6JIcn"
      },
      "source": [
        "setting the hyperparameter"
      ]
    },
    {
      "cell_type": "code",
      "execution_count": null,
      "metadata": {
        "id": "wyTikFUcpjLs"
      },
      "outputs": [],
      "source": [
        "#Define Constants\n",
        "\n",
        "#Hyperparameter for softmargin hinge loss\n",
        "C = 1000\n",
        "\n",
        "#learninf rate\n",
        "alpha =  0.00000001\n"
      ]
    },
    {
      "cell_type": "markdown",
      "metadata": {
        "id": "9bcuUWVapjLt"
      },
      "source": [
        "<h3>Loss function for the Primal SVM</h3>\n",
        "\n",
        "$$J(\\mathrm{w})=\\frac{1}{2}\\|\\mathrm{w}\\|^{2}+C\\left[\\frac{1}{N} \\sum_{i}^{n} \\max \\left(0,1-y_{i} *\\left(\\mathrm{w} \\cdot x_{i}+b\\right)\\right)\\right]$$\n",
        "Or we can rewrite it as\n",
        "\n",
        "$$J(\\mathrm{w})=\\frac{1}{N} \\sum_{i}^{n}\\left[\\frac{1}{2}\\|\\mathrm{w}\\|^{2}+C \\max \\left(0,1-y_{i} *\\left(\\mathrm{w} \\cdot x_{i}\\right)\\right)\\right]$$"
      ]
    },
    {
      "cell_type": "markdown",
      "metadata": {
        "id": "pBsBcEFhJLsg"
      },
      "source": [
        "calculating the loss"
      ]
    },
    {
      "cell_type": "code",
      "execution_count": null,
      "metadata": {
        "id": "yBhcnwctpjLt"
      },
      "outputs": [],
      "source": [
        "def calculate_loss(X,y,w):\n",
        "  n=X.shape[0]\n",
        "  loss=0\n",
        "  add= (1/2)*(w.T@w)\n",
        " \n",
        "  for i in range(0,n,1):\n",
        "    ##print(1-y[i]*(X[i, : ]@w))\n",
        "    loss+=(max(0, (1-y[i]*(X[i]@w))))\n",
        "\n",
        "  loss=(loss*C)/n\n",
        "  \n",
        "\n",
        "  return loss+add"
      ]
    },
    {
      "cell_type": "markdown",
      "metadata": {
        "id": "6hbVSNempjLu"
      },
      "source": [
        "<h3>Gradient of the loss function for the Primal SVM</h3>\n",
        "\n",
        "$$\n",
        "\\nabla_{w} J(\\mathrm{w})=\\frac{1}{N} \\sum_{i}^{n}\\left\\{\\begin{array}{ll}\n",
        "\\mathrm{w} & \\text { if } \\max \\left(0,1-y_{i} *\\left(\\mathrm{w} \\cdot x_{i}\\right)\\right)=0 \\\\\n",
        "\\mathrm{w}-C y_{i} x_{i} & \\text { otherwise }\n",
        "\\end{array}\\right.\n",
        "$$"
      ]
    },
    {
      "cell_type": "markdown",
      "metadata": {
        "id": "gMducLH6JUHr"
      },
      "source": [
        "calculating the gradient\n"
      ]
    },
    {
      "cell_type": "code",
      "execution_count": null,
      "metadata": {
        "id": "OFEfhWxrpjLv"
      },
      "outputs": [],
      "source": [
        "def calculate_gradient(Xi,yi,w,N):\n",
        "    \n",
        "    \n",
        "    gw= np.asarray(w)\n",
        "    #print(yi*(Xi@w))\n",
        "    #` print(w)\n",
        "    #print(Xi)\n",
        "    \n",
        "    if(max(0, (1-yi*(Xi@w)))==0):\n",
        "      return w/N\n",
        "    else:\n",
        "        \n",
        "      gw=gw-(C*yi*(Xi).reshape(w.shape[0] ,1 ))\n",
        "      #print(gw)\n",
        "\n",
        "        \n",
        "    \n",
        "    return (gw)*(1/N)"
      ]
    },
    {
      "cell_type": "markdown",
      "metadata": {
        "id": "St9TGyr7pjLw"
      },
      "source": [
        "### Perform Stochastic Gradient Descent"
      ]
    },
    {
      "cell_type": "markdown",
      "metadata": {
        "id": "vKzdsatUJ0iR"
      },
      "source": [
        ""
      ]
    },
    {
      "cell_type": "code",
      "execution_count": null,
      "metadata": {
        "id": "7SSNekjgpjLw"
      },
      "outputs": [],
      "source": [
        "import random\n",
        "import math\n",
        "def stochastic_gradient_descent(X_,y_):\n",
        "    max_epochs = 500\n",
        "    loss=[]\n",
        "    e=[]\n",
        "    \n",
        "    w=np.zeros((X_.shape[1],1))\n",
        "    # stochastic gradient descent\n",
        "    #(you can stop training when there is no further improvement in weights)\n",
        "    a=10000000000000000000000000\n",
        "\n",
        "    for epoch in range(1, max_epochs):\n",
        "        # shuffle to prevent repeating update cycles\n",
        "        X_,y_=shuffle(X_, y_)\n",
        "        \n",
        "                 \n",
        "        for i in range(0, X_.shape[0]):\n",
        "        \n",
        "        \n",
        "          w=w-alpha*calculate_gradient(X_[i, :], y_[i, :],w, X_.shape[0])\n",
        "          \n",
        "         \n",
        "        #if abs((a-calculate_loss(X_,y_,w))/a)<.001:\n",
        "         #   break \n",
        "\n",
        "\n",
        "        if epoch%10== 0:\n",
        "            \n",
        "          t_loss= calculate_loss(X_, y_, w)\n",
        "          #test_loss=calculate_loss(X_test, y, w)\n",
        "          t_loss=calculate_loss(X_, y_, w).reshape(1)\n",
        "          loss.append(t_loss)\n",
        "          e.append(epoch)\n",
        "          print('-----------------------------------------------------------------------------')\n",
        "          print(\"Epoch: {} Loss: {}  \".format(epoch, t_loss))\n",
        "        \n",
        "      \n",
        "\n",
        "        \n",
        "        a=calculate_loss(X_,y_,w)\n",
        "\n",
        "    return w, loss, e"
      ]
    },
    {
      "cell_type": "code",
      "execution_count": null,
      "metadata": {
        "colab": {
          "base_uri": "https://localhost:8080/",
          "height": 1000
        },
        "id": "0zkya6V4pjLx",
        "outputId": "5d451ac3-48bb-4b09-c606-1c9022c81ee1"
      },
      "outputs": [
        {
          "output_type": "stream",
          "name": "stdout",
          "text": [
            "-----------------------------------------------------------------------------\n",
            "Epoch: 10 Loss: [804.71453463]  \n",
            "-----------------------------------------------------------------------------\n",
            "Epoch: 20 Loss: [679.86413569]  \n",
            "-----------------------------------------------------------------------------\n",
            "Epoch: 30 Loss: [566.40520525]  \n",
            "-----------------------------------------------------------------------------\n",
            "Epoch: 40 Loss: [476.71233752]  \n",
            "-----------------------------------------------------------------------------\n",
            "Epoch: 50 Loss: [427.25899619]  \n",
            "-----------------------------------------------------------------------------\n",
            "Epoch: 60 Loss: [413.56396557]  \n",
            "-----------------------------------------------------------------------------\n",
            "Epoch: 70 Loss: [372.7315161]  \n",
            "-----------------------------------------------------------------------------\n",
            "Epoch: 80 Loss: [353.45010739]  \n",
            "-----------------------------------------------------------------------------\n",
            "Epoch: 90 Loss: [349.11615587]  \n",
            "-----------------------------------------------------------------------------\n",
            "Epoch: 100 Loss: [330.48688534]  \n",
            "-----------------------------------------------------------------------------\n",
            "Epoch: 110 Loss: [313.84517828]  \n",
            "-----------------------------------------------------------------------------\n",
            "Epoch: 120 Loss: [304.86306417]  \n",
            "-----------------------------------------------------------------------------\n",
            "Epoch: 130 Loss: [297.86782596]  \n",
            "-----------------------------------------------------------------------------\n",
            "Epoch: 140 Loss: [290.96970284]  \n",
            "-----------------------------------------------------------------------------\n",
            "Epoch: 150 Loss: [284.85777524]  \n",
            "-----------------------------------------------------------------------------\n",
            "Epoch: 160 Loss: [282.44366244]  \n",
            "-----------------------------------------------------------------------------\n",
            "Epoch: 170 Loss: [276.10866442]  \n",
            "-----------------------------------------------------------------------------\n",
            "Epoch: 180 Loss: [271.44052293]  \n",
            "-----------------------------------------------------------------------------\n",
            "Epoch: 190 Loss: [269.74388162]  \n",
            "-----------------------------------------------------------------------------\n",
            "Epoch: 200 Loss: [265.61670806]  \n",
            "-----------------------------------------------------------------------------\n",
            "Epoch: 210 Loss: [270.05058483]  \n",
            "-----------------------------------------------------------------------------\n",
            "Epoch: 220 Loss: [258.12055847]  \n",
            "-----------------------------------------------------------------------------\n",
            "Epoch: 230 Loss: [257.39238903]  \n",
            "-----------------------------------------------------------------------------\n",
            "Epoch: 240 Loss: [253.85193264]  \n",
            "-----------------------------------------------------------------------------\n",
            "Epoch: 250 Loss: [252.84739814]  \n",
            "-----------------------------------------------------------------------------\n",
            "Epoch: 260 Loss: [248.32144502]  \n",
            "-----------------------------------------------------------------------------\n",
            "Epoch: 270 Loss: [248.32441035]  \n",
            "-----------------------------------------------------------------------------\n",
            "Epoch: 280 Loss: [245.19538083]  \n",
            "-----------------------------------------------------------------------------\n",
            "Epoch: 290 Loss: [243.66049894]  \n",
            "-----------------------------------------------------------------------------\n",
            "Epoch: 300 Loss: [251.18425271]  \n",
            "-----------------------------------------------------------------------------\n",
            "Epoch: 310 Loss: [241.73068492]  \n",
            "-----------------------------------------------------------------------------\n",
            "Epoch: 320 Loss: [239.95438377]  \n",
            "-----------------------------------------------------------------------------\n",
            "Epoch: 330 Loss: [241.21063769]  \n",
            "-----------------------------------------------------------------------------\n",
            "Epoch: 340 Loss: [238.04077479]  \n",
            "-----------------------------------------------------------------------------\n",
            "Epoch: 350 Loss: [237.21623307]  \n",
            "-----------------------------------------------------------------------------\n",
            "Epoch: 360 Loss: [236.29879035]  \n",
            "-----------------------------------------------------------------------------\n",
            "Epoch: 370 Loss: [237.26698201]  \n",
            "-----------------------------------------------------------------------------\n",
            "Epoch: 380 Loss: [238.84198306]  \n",
            "-----------------------------------------------------------------------------\n",
            "Epoch: 390 Loss: [233.88310224]  \n",
            "-----------------------------------------------------------------------------\n",
            "Epoch: 400 Loss: [233.40877299]  \n",
            "-----------------------------------------------------------------------------\n",
            "Epoch: 410 Loss: [234.33447796]  \n",
            "-----------------------------------------------------------------------------\n",
            "Epoch: 420 Loss: [234.26536437]  \n",
            "-----------------------------------------------------------------------------\n",
            "Epoch: 430 Loss: [233.08953353]  \n",
            "-----------------------------------------------------------------------------\n",
            "Epoch: 440 Loss: [230.97096471]  \n",
            "-----------------------------------------------------------------------------\n",
            "Epoch: 450 Loss: [230.93603717]  \n",
            "-----------------------------------------------------------------------------\n",
            "Epoch: 460 Loss: [230.11367707]  \n",
            "-----------------------------------------------------------------------------\n",
            "Epoch: 470 Loss: [233.09699469]  \n",
            "-----------------------------------------------------------------------------\n",
            "Epoch: 480 Loss: [229.04828618]  \n",
            "-----------------------------------------------------------------------------\n",
            "Epoch: 490 Loss: [229.18121567]  \n",
            "-----------------------------------------------------------------------------\n",
            "Final Weights are:\n",
            "[[ 3.86556446e-03]\n",
            " [ 6.03208217e-03]\n",
            " [ 2.26797245e-02]\n",
            " [ 9.68842696e-03]\n",
            " [ 3.85390117e-05]\n",
            " [-9.06975037e-06]\n",
            " [-5.74596861e-05]\n",
            " [-2.67758760e-05]\n",
            " [ 7.21104117e-05]\n",
            " [ 3.04666462e-05]\n",
            " [ 6.11462408e-05]\n",
            " [ 5.13905705e-04]\n",
            " [ 2.41791560e-04]\n",
            " [-5.12306508e-03]\n",
            " [ 3.07518154e-06]\n",
            " [ 5.72110526e-07]\n",
            " [-1.60371380e-07]\n",
            " [ 5.51475186e-07]\n",
            " [ 7.87069076e-06]\n",
            " [ 1.32152145e-06]\n",
            " [ 4.03359773e-03]\n",
            " [ 7.59708610e-03]\n",
            " [ 2.29763628e-02]\n",
            " [-1.30834798e-02]\n",
            " [ 4.89010613e-05]\n",
            " [-5.68198800e-05]\n",
            " [-1.23787642e-04]\n",
            " [-3.12809673e-05]\n",
            " [ 9.45895606e-05]\n",
            " [ 2.94575335e-05]]\n"
          ]
        },
        {
          "output_type": "display_data",
          "data": {
            "image/png": "[encoded data removed]",
            "text/plain": [
              "<Figure size 432x288 with 1 Axes>"
            ]
          },
          "metadata": {
            "needs_background": "light"
          }
        }
      ],
      "source": [
        "def linear_svm(X,y):\n",
        "    weights, l ,e = stochastic_gradient_descent(X,y)\n",
        "    #print(l, e)\n",
        "    return weights,l,e\n",
        "\n",
        "import matplotlib.pyplot as plt\n",
        "w, x_ , y_ = linear_svm(X_train,y_train)\n",
        "loss=calculate_loss(X_train, y_train,w)\n",
        "\n",
        "plt.plot(y_, x_)\n",
        "print('-----------------------------------------------------------------------------')\n",
        "print(\"Final Weights are:\\n{}\".format(w))\n",
        "\n",
        "\n"
      ]
    },
    {
      "cell_type": "code",
      "execution_count": null,
      "metadata": {
        "id": "CzdU8DpYR4NG"
      },
      "outputs": [],
      "source": [
        "def predict(X,w):\n",
        "  a= X@w\n",
        "  #print(a)\n",
        "  a= np.where(a<0, -1, 1)\n",
        "  return a"
      ]
    },
    {
      "cell_type": "code",
      "execution_count": null,
      "metadata": {
        "colab": {
          "base_uri": "https://localhost:8080/",
          "height": 1000
        },
        "id": "hvIV4TJBpjLx",
        "outputId": "f480e8d2-0a4c-4b4a-9b11-78595cd7c3a2"
      },
      "outputs": [
        {
          "output_type": "stream",
          "name": "stdout",
          "text": [
            "-----------------------------------------------------------------------------\n",
            "Epoch: 10 Loss: [774.3943405]  \n",
            "-----------------------------------------------------------------------------\n",
            "Epoch: 20 Loss: [631.85062337]  \n",
            "-----------------------------------------------------------------------------\n",
            "Epoch: 30 Loss: [462.08774225]  \n",
            "-----------------------------------------------------------------------------\n",
            "Epoch: 40 Loss: [359.6265608]  \n",
            "-----------------------------------------------------------------------------\n",
            "Epoch: 50 Loss: [361.40936603]  \n",
            "-----------------------------------------------------------------------------\n",
            "Epoch: 60 Loss: [289.75729064]  \n",
            "-----------------------------------------------------------------------------\n",
            "Epoch: 70 Loss: [268.18000284]  \n",
            "-----------------------------------------------------------------------------\n",
            "Epoch: 80 Loss: [254.90611774]  \n",
            "-----------------------------------------------------------------------------\n",
            "Epoch: 90 Loss: [243.31974061]  \n",
            "-----------------------------------------------------------------------------\n",
            "Epoch: 100 Loss: [236.02311679]  \n",
            "-----------------------------------------------------------------------------\n",
            "Epoch: 110 Loss: [227.68918802]  \n",
            "-----------------------------------------------------------------------------\n",
            "Epoch: 120 Loss: [234.34901153]  \n",
            "-----------------------------------------------------------------------------\n",
            "Epoch: 130 Loss: [227.66010226]  \n",
            "-----------------------------------------------------------------------------\n",
            "Epoch: 140 Loss: [209.28593028]  \n",
            "-----------------------------------------------------------------------------\n",
            "Epoch: 150 Loss: [204.48297492]  \n",
            "-----------------------------------------------------------------------------\n",
            "Epoch: 160 Loss: [202.06926518]  \n",
            "-----------------------------------------------------------------------------\n",
            "Epoch: 170 Loss: [196.09236541]  \n",
            "-----------------------------------------------------------------------------\n",
            "Epoch: 180 Loss: [192.61182434]  \n",
            "-----------------------------------------------------------------------------\n",
            "Epoch: 190 Loss: [191.14758635]  \n",
            "-----------------------------------------------------------------------------\n",
            "Epoch: 200 Loss: [198.09148831]  \n",
            "-----------------------------------------------------------------------------\n",
            "Epoch: 210 Loss: [186.69701061]  \n",
            "-----------------------------------------------------------------------------\n",
            "Epoch: 220 Loss: [183.46768215]  \n",
            "-----------------------------------------------------------------------------\n",
            "Epoch: 230 Loss: [183.00314469]  \n",
            "-----------------------------------------------------------------------------\n",
            "Epoch: 240 Loss: [182.94312662]  \n",
            "-----------------------------------------------------------------------------\n",
            "Epoch: 250 Loss: [180.74375983]  \n",
            "-----------------------------------------------------------------------------\n",
            "Epoch: 260 Loss: [175.09815917]  \n",
            "-----------------------------------------------------------------------------\n",
            "Epoch: 270 Loss: [176.29054107]  \n",
            "-----------------------------------------------------------------------------\n",
            "Epoch: 280 Loss: [172.40355749]  \n",
            "-----------------------------------------------------------------------------\n",
            "Epoch: 290 Loss: [171.7294562]  \n",
            "-----------------------------------------------------------------------------\n",
            "Epoch: 300 Loss: [170.39436395]  \n",
            "-----------------------------------------------------------------------------\n",
            "Epoch: 310 Loss: [170.01944096]  \n",
            "-----------------------------------------------------------------------------\n",
            "Epoch: 320 Loss: [167.9465543]  \n",
            "-----------------------------------------------------------------------------\n",
            "Epoch: 330 Loss: [167.03006854]  \n",
            "-----------------------------------------------------------------------------\n",
            "Epoch: 340 Loss: [166.29040081]  \n",
            "-----------------------------------------------------------------------------\n",
            "Epoch: 350 Loss: [165.4816927]  \n",
            "-----------------------------------------------------------------------------\n",
            "Epoch: 360 Loss: [170.97409434]  \n",
            "-----------------------------------------------------------------------------\n",
            "Epoch: 370 Loss: [164.61651603]  \n",
            "-----------------------------------------------------------------------------\n",
            "Epoch: 380 Loss: [162.74639202]  \n",
            "-----------------------------------------------------------------------------\n",
            "Epoch: 390 Loss: [163.23889682]  \n",
            "-----------------------------------------------------------------------------\n",
            "Epoch: 400 Loss: [161.18220541]  \n",
            "-----------------------------------------------------------------------------\n",
            "Epoch: 410 Loss: [160.97152648]  \n",
            "-----------------------------------------------------------------------------\n",
            "Epoch: 420 Loss: [161.50729205]  \n",
            "-----------------------------------------------------------------------------\n",
            "Epoch: 430 Loss: [165.60995536]  \n",
            "-----------------------------------------------------------------------------\n",
            "Epoch: 440 Loss: [158.5200156]  \n",
            "-----------------------------------------------------------------------------\n",
            "Epoch: 450 Loss: [157.17957455]  \n",
            "-----------------------------------------------------------------------------\n",
            "Epoch: 460 Loss: [156.41617388]  \n",
            "-----------------------------------------------------------------------------\n",
            "Epoch: 470 Loss: [156.38903287]  \n",
            "-----------------------------------------------------------------------------\n",
            "Epoch: 480 Loss: [154.90320253]  \n",
            "-----------------------------------------------------------------------------\n",
            "Epoch: 490 Loss: [154.65383968]  \n",
            "-----------------------------------------------------------------------------\n",
            "Epoch: 10 Loss: [802.52674313]  \n",
            "-----------------------------------------------------------------------------\n",
            "Epoch: 20 Loss: [678.30529015]  \n",
            "-----------------------------------------------------------------------------\n",
            "Epoch: 30 Loss: [562.82846155]  \n",
            "-----------------------------------------------------------------------------\n",
            "Epoch: 40 Loss: [478.25532952]  \n",
            "-----------------------------------------------------------------------------\n",
            "Epoch: 50 Loss: [461.47184576]  \n",
            "-----------------------------------------------------------------------------\n",
            "Epoch: 60 Loss: [396.49957876]  \n",
            "-----------------------------------------------------------------------------\n",
            "Epoch: 70 Loss: [372.02653163]  \n",
            "-----------------------------------------------------------------------------\n",
            "Epoch: 80 Loss: [353.39770883]  \n",
            "-----------------------------------------------------------------------------\n",
            "Epoch: 90 Loss: [338.49612029]  \n",
            "-----------------------------------------------------------------------------\n",
            "Epoch: 100 Loss: [334.41630802]  \n",
            "-----------------------------------------------------------------------------\n",
            "Epoch: 110 Loss: [313.11586868]  \n",
            "-----------------------------------------------------------------------------\n",
            "Epoch: 120 Loss: [309.17982081]  \n",
            "-----------------------------------------------------------------------------\n",
            "Epoch: 130 Loss: [296.99046783]  \n",
            "-----------------------------------------------------------------------------\n",
            "Epoch: 140 Loss: [290.37124003]  \n",
            "-----------------------------------------------------------------------------\n",
            "Epoch: 150 Loss: [287.51811636]  \n",
            "-----------------------------------------------------------------------------\n",
            "Epoch: 160 Loss: [281.91629633]  \n",
            "-----------------------------------------------------------------------------\n",
            "Epoch: 170 Loss: [274.58913417]  \n",
            "-----------------------------------------------------------------------------\n",
            "Epoch: 180 Loss: [270.43390792]  \n",
            "-----------------------------------------------------------------------------\n",
            "Epoch: 190 Loss: [268.37985159]  \n",
            "-----------------------------------------------------------------------------\n",
            "Epoch: 200 Loss: [263.4099342]  \n",
            "-----------------------------------------------------------------------------\n",
            "Epoch: 210 Loss: [261.09154096]  \n",
            "-----------------------------------------------------------------------------\n",
            "Epoch: 220 Loss: [258.62863453]  \n",
            "-----------------------------------------------------------------------------\n",
            "Epoch: 230 Loss: [255.27121301]  \n",
            "-----------------------------------------------------------------------------\n",
            "Epoch: 240 Loss: [252.32073996]  \n",
            "-----------------------------------------------------------------------------\n",
            "Epoch: 250 Loss: [251.08295106]  \n",
            "-----------------------------------------------------------------------------\n",
            "Epoch: 260 Loss: [247.8676274]  \n",
            "-----------------------------------------------------------------------------\n",
            "Epoch: 270 Loss: [246.27408865]  \n",
            "-----------------------------------------------------------------------------\n",
            "Epoch: 280 Loss: [244.83156501]  \n",
            "-----------------------------------------------------------------------------\n",
            "Epoch: 290 Loss: [243.22860934]  \n",
            "-----------------------------------------------------------------------------\n",
            "Epoch: 300 Loss: [245.69578146]  \n",
            "-----------------------------------------------------------------------------\n",
            "Epoch: 310 Loss: [241.12612921]  \n",
            "-----------------------------------------------------------------------------\n",
            "Epoch: 320 Loss: [240.65080379]  \n",
            "-----------------------------------------------------------------------------\n",
            "Epoch: 330 Loss: [239.82635553]  \n",
            "-----------------------------------------------------------------------------\n",
            "Epoch: 340 Loss: [237.99867912]  \n",
            "-----------------------------------------------------------------------------\n",
            "Epoch: 350 Loss: [237.34761184]  \n",
            "-----------------------------------------------------------------------------\n",
            "Epoch: 360 Loss: [236.25400518]  \n",
            "-----------------------------------------------------------------------------\n",
            "Epoch: 370 Loss: [236.65479632]  \n",
            "-----------------------------------------------------------------------------\n",
            "Epoch: 380 Loss: [235.80475694]  \n",
            "-----------------------------------------------------------------------------\n",
            "Epoch: 390 Loss: [234.29800369]  \n",
            "-----------------------------------------------------------------------------\n",
            "Epoch: 400 Loss: [235.84912472]  \n",
            "-----------------------------------------------------------------------------\n",
            "Epoch: 410 Loss: [234.05128458]  \n",
            "-----------------------------------------------------------------------------\n",
            "Epoch: 420 Loss: [234.74590293]  \n",
            "-----------------------------------------------------------------------------\n",
            "Epoch: 430 Loss: [231.66843506]  \n",
            "-----------------------------------------------------------------------------\n",
            "Epoch: 440 Loss: [231.18037366]  \n",
            "-----------------------------------------------------------------------------\n",
            "Epoch: 450 Loss: [230.50910904]  \n",
            "-----------------------------------------------------------------------------\n",
            "Epoch: 460 Loss: [230.82758085]  \n",
            "-----------------------------------------------------------------------------\n",
            "Epoch: 470 Loss: [229.71687376]  \n",
            "-----------------------------------------------------------------------------\n",
            "Epoch: 480 Loss: [230.44488178]  \n",
            "-----------------------------------------------------------------------------\n",
            "Epoch: 490 Loss: [228.80238489]  \n",
            "Test Accuracy: 0.9385964912280702\n"
          ]
        },
        {
          "output_type": "display_data",
          "data": {
            "image/png": "[encoded data removed]",
            "text/plain": [
              "<Figure size 432x288 with 1 Axes>"
            ]
          },
          "metadata": {
            "needs_background": "light"
          }
        }
      ],
      "source": [
        "# testing the model on test set make predictions\n",
        "w, loss_ , epoch_ = linear_svm(X_test,y_test)\n",
        "w_train, loss_x, epoch_y = linear_svm(X_train, y_train)\n",
        "y_predicted =  predict(X_test, w)\n",
        "y_train_pre= predict(X_train, w_train)\n",
        "#print(y_predicted)\n",
        "plt.plot( epoch_, loss_)\n",
        "print(\"Test Accuracy: {}\".format(accuracy_score(y_test, y_predicted)))"
      ]
    },
    {
      "cell_type": "code",
      "source": [
        "print(\"Test Accuracy: {}\".format(accuracy_score(y_test, y_predicted)))"
      ],
      "metadata": {
        "colab": {
          "base_uri": "https://localhost:8080/"
        },
        "id": "ayBfY64otcDa",
        "outputId": "13cc740c-c456-4eed-caab-417a9b2f861f"
      },
      "execution_count": null,
      "outputs": [
        {
          "output_type": "stream",
          "name": "stdout",
          "text": [
            "Test Accuracy: 0.9385964912280702\n"
          ]
        }
      ]
    },
    {
      "cell_type": "code",
      "source": [
        "print(\"Train Accuracy: {}\".format(accuracy_score(y_train, y_train_pre)))"
      ],
      "metadata": {
        "colab": {
          "base_uri": "https://localhost:8080/"
        },
        "id": "iJrXkoPQvAW3",
        "outputId": "d91c00f5-d248-4bce-e3de-e638b36d4ff2"
      },
      "execution_count": null,
      "outputs": [
        {
          "output_type": "stream",
          "name": "stdout",
          "text": [
            "Train Accuracy: 0.9120879120879121\n"
          ]
        }
      ]
    },
    {
      "cell_type": "code",
      "execution_count": null,
      "metadata": {
        "colab": {
          "base_uri": "https://localhost:8080/"
        },
        "id": "pkzEkOpvpjLy",
        "outputId": "46a82c7a-9c67-496a-c6a0-5c8bfae36641"
      },
      "outputs": [
        {
          "output_type": "stream",
          "name": "stdout",
          "text": [
            "index for closest point: 265\n",
            "nearest data point: [2.073e+01 3.112e+01 1.357e+02 1.419e+03 9.469e-02 1.143e-01 1.367e-01\n",
            " 8.646e-02 1.769e-01 5.674e-02 1.172e+00 1.617e+00 7.749e+00 1.997e+02\n",
            " 4.551e-03 1.478e-02 2.143e-02 9.280e-03 1.367e-02 2.299e-03 3.249e+01\n",
            " 4.716e+01 2.140e+02 3.432e+03 1.401e-01 2.644e-01 3.442e-01 1.659e-01\n",
            " 2.868e-01 8.218e-02]\n"
          ]
        }
      ],
      "source": [
        "# calculate distance from each point to the decision boundary\n",
        "\n",
        "\n",
        "distance= []\n",
        "\n",
        "for i in range(0, X.shape[0]):\n",
        "  distance.append(X[i]@w)\n",
        "\n",
        "i= distance. index(min(distance))\n",
        "\n",
        "print(\"index for closest point:\", i)\n",
        "print(\"nearest data point:\" ,X[i])\n",
        "\n",
        "\n",
        "# find the nearest data points and its index.\n"
      ]
    },
    {
      "cell_type": "markdown",
      "source": [
        "decision function - if the values are positive then true otherwise false\n",
        "<br>\n",
        "index of the data closest to the boundary is 265 (calculated above)\n",
        "\n"
      ],
      "metadata": {
        "id": "9if1rZiD1JMD"
      }
    }
  ],
  "metadata": {
    "colab": {
      "collapsed_sections": [],
      "name": "svm.ipynb",
      "provenance": [],
      "include_colab_link": true
    },
    "kernelspec": {
      "display_name": "Python 3",
      "language": "python",
      "name": "python3"
    },
    "language_info": {
      "codemirror_mode": {
        "name": "ipython",
        "version": 3
      },
      "file_extension": ".py",
      "mimetype": "text/x-python",
      "name": "python",
      "nbconvert_exporter": "python",
      "pygments_lexer": "ipython3",
      "version": "3.7.9"
    }
  },
  "nbformat": 4,
  "nbformat_minor": 0
}
